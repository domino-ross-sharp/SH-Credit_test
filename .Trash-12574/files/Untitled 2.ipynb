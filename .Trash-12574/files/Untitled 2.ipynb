{
 "cells": [
  {
   "cell_type": "code",
   "execution_count": 4,
   "id": "49bbf01e-2999-48b9-8815-fac35bfd0524",
   "metadata": {},
   "outputs": [
    {
     "ename": "AttributeError",
     "evalue": "'Domino' object has no attribute 'dataset_details'",
     "output_type": "error",
     "traceback": [
      "\u001b[0;31m---------------------------------------------------------------------------\u001b[0m",
      "\u001b[0;31mAttributeError\u001b[0m                            Traceback (most recent call last)",
      "Cell \u001b[0;32mIn[4], line 8\u001b[0m\n\u001b[1;32m      5\u001b[0m dataset_id \u001b[38;5;241m=\u001b[39m \u001b[38;5;124m\"\u001b[39m\u001b[38;5;124m6781481dbcb42b7e687c98ed\u001b[39m\u001b[38;5;124m\"\u001b[39m  \u001b[38;5;66;03m# Test_Credit_Default dataset ID\u001b[39;00m\n\u001b[1;32m      7\u001b[0m \u001b[38;5;66;03m# Get dataset details including snapshots\u001b[39;00m\n\u001b[0;32m----> 8\u001b[0m dataset_info \u001b[38;5;241m=\u001b[39m \u001b[43mdomino_project\u001b[49m\u001b[38;5;241;43m.\u001b[39;49m\u001b[43mdataset_details\u001b[49m(dataset_id)\n\u001b[1;32m      9\u001b[0m \u001b[38;5;28mprint\u001b[39m(\u001b[38;5;124m\"\u001b[39m\u001b[38;5;130;01m\\n\u001b[39;00m\u001b[38;5;124mDataset Details:\u001b[39m\u001b[38;5;124m\"\u001b[39m)\n\u001b[1;32m     10\u001b[0m \u001b[38;5;28mprint\u001b[39m(\u001b[38;5;124m\"\u001b[39m\u001b[38;5;124m----------------\u001b[39m\u001b[38;5;124m\"\u001b[39m)\n",
      "\u001b[0;31mAttributeError\u001b[0m: 'Domino' object has no attribute 'dataset_details'"
     ]
    }
   ],
   "source": [
    "import os\n",
    "import domino \n",
    "\n",
    "domino_project = domino.Domino(project=str(os.environ.get('DOMINO_PROJECT_OWNER')+'/'+os.environ.get('DOMINO_PROJECT_NAME')))\n",
    "dataset_id = \"6781481dbcb42b7e687c98ed\"  # Test_Credit_Default dataset ID\n",
    "\n",
    "# Get dataset details including snapshots\n",
    "dataset_info = domino_project.dataset_details(dataset_id)\n",
    "print(\"\\nDataset Details:\")\n",
    "print(\"----------------\")\n",
    "for key, value in dataset_info.items():\n",
    "    print(f\"{key}: {value}\")"
   ]
  },
  {
   "cell_type": "code",
   "execution_count": 3,
   "id": "33e41f3b-ea73-4eb5-be8a-52dd1e716115",
   "metadata": {},
   "outputs": [
    {
     "name": "stdout",
     "output_type": "stream",
     "text": [
      "\n",
      "Dataset Details:\n",
      "----------------\n",
      "datasetName: quick-start\n",
      "datasetId: 677ebcac1897ee1afb51109a\n",
      "projectId: 677ebca41897ee1afb511096\n",
      "\n",
      "Dataset Details:\n",
      "----------------\n",
      "datasetName: test2\n",
      "datasetId: 677ebcdd1897ee1afb5110a1\n",
      "projectId: 677ebcdb1897ee1afb51109e\n",
      "\n",
      "Dataset Details:\n",
      "----------------\n",
      "datasetName: quick-start\n",
      "datasetId: 678119d2bcb42b7e687c986d\n",
      "projectId: 678119cbbcb42b7e687c9869\n",
      "\n",
      "Dataset Details:\n",
      "----------------\n",
      "datasetName: Credit_Default_Model\n",
      "datasetId: 67811fd6bcb42b7e687c9879\n",
      "projectId: 67811fd4bcb42b7e687c9874\n",
      "\n",
      "Dataset Details:\n",
      "----------------\n",
      "datasetName: Credit_Default_Model\n",
      "datasetId: 678120433af54d44da433079\n",
      "projectId: 6781203e3af54d44da433075\n",
      "\n",
      "Dataset Details:\n",
      "----------------\n",
      "datasetName: Credit_Default_Model\n",
      "datasetId: 67812143bcb42b7e687c9883\n",
      "projectId: 67812141bcb42b7e687c987f\n",
      "\n",
      "Dataset Details:\n",
      "----------------\n",
      "datasetName: Test_Credit_Default\n",
      "datasetId: 6781481dbcb42b7e687c98ed\n",
      "projectId: 67812141bcb42b7e687c987f\n"
     ]
    }
   ],
   "source": [
    "import os\n",
    "import domino \n",
    "\n",
    "domino_project = domino.Domino(project=str(os.environ.get('DOMINO_PROJECT_OWNER')+'/'+os.environ.get('DOMINO_PROJECT_NAME')))\n",
    "datasets = domino_project.datasets_list()\n",
    "for dataset in datasets:\n",
    "    print(\"\\nDataset Details:\")\n",
    "    print(\"----------------\")\n",
    "    for key, value in dataset.items():\n",
    "        print(f\"{key}: {value}\")"
   ]
  },
  {
   "cell_type": "code",
   "execution_count": null,
   "id": "03b467af-9528-46a5-9ccc-1f953f1a0f45",
   "metadata": {},
   "outputs": [],
   "source": []
  }
 ],
 "metadata": {
  "kernelspec": {
   "display_name": "Python 3 (ipykernel)",
   "language": "python",
   "name": "python3"
  },
  "language_info": {
   "codemirror_mode": {
    "name": "ipython",
    "version": 3
   },
   "file_extension": ".py",
   "mimetype": "text/x-python",
   "name": "python",
   "nbconvert_exporter": "python",
   "pygments_lexer": "ipython3",
   "version": "3.10.14"
  }
 },
 "nbformat": 4,
 "nbformat_minor": 5
}
